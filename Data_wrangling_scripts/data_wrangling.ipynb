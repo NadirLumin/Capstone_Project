{
 "cells": [
  {
   "cell_type": "code",
   "execution_count": 1,
   "metadata": {},
   "outputs": [],
   "source": [
    "import missingno as msno"
   ]
  },
  {
   "cell_type": "code",
   "execution_count": null,
   "metadata": {},
   "outputs": [
    {
     "name": "stdout",
     "output_type": "stream",
     "text": [
      "WordNet Data Overview:\n",
      "<class 'pandas.core.frame.DataFrame'>\n",
      "RangeIndex: 273121 entries, 0 to 273120\n",
      "Data columns (total 4 columns):\n",
      " #   Column          Non-Null Count   Dtype \n",
      "---  ------          --------------   ----- \n",
      " 0   Synset ID       273121 non-null  object\n",
      " 1   Definition      273121 non-null  object\n",
      " 2   Part of Speech  273121 non-null  object\n",
      " 3   Word            273121 non-null  object\n",
      "dtypes: object(4)\n",
      "memory usage: 8.3+ MB\n"
     ]
    }
   ],
   "source": [
    "import pandas as pd\n",
    "\n",
    "# Load WordNet dataset\n",
    "wordnet_data_path = \"/Users/kingcarlos/DIVINE_LUMINARY/UCSD_Course/Capstone_Project/Project_datasets/wordnet_data/cleaned_wordnet_data.csv\"\n",
    "df_wordnet = pd.read_csv(wordnet_data_path)\n",
    "\n",
    "# Display basic information for WordNet dataset\n",
    "print(\"WordNet Data Overview:\")\n",
    "df_wordnet.info()\n",
    "\n",
    "# # Commenting out Neologisms and Synonyms data loading\n",
    "# neologisms_data_path = \"/Users/kingcarlos/DIVINE_LUMINARY/UCSD_Course/Capstone_Project/Project_datasets/Neologisms Data/Neologisms.txt\"\n",
    "# synonyms_data_path = \"/Users/kingcarlos/DIVINE_LUMINARY/UCSD_Course/Capstone_Project/Project_datasets/Exuberant Synonyms Data/Exuberant synonyms for outdated terms.txt\"\n",
    "\n",
    "# # Commenting out Neologisms and Synonyms datasets\n",
    "# df_neologisms = pd.read_csv(neologisms_data_path, sep=\"\\t\", header=None, names=[\"Neologism\", \"Description\"])\n",
    "# df_synonyms = pd.read_csv(synonyms_data_path, sep=\"\\t\", header=None, names=[\"Outdated Term\", \"Exuberant Synonym\"])\n",
    "\n",
    "# # Commenting out basic information for the other datasets\n",
    "# print(\"\\nNeologisms Data Overview:\")\n",
    "# df_neologisms.info()\n",
    "# print(\"\\nExuberant Synonyms Data Overview:\")\n",
    "# df_synonyms.info()"
   ]
  },
  {
   "cell_type": "code",
   "execution_count": 3,
   "metadata": {},
   "outputs": [
    {
     "name": "stdout",
     "output_type": "stream",
     "text": [
      "\n",
      "Missing values after handling:\n",
      "WordNet: Synset ID         0\n",
      "Definition        0\n",
      "Part of Speech    0\n",
      "Word              0\n",
      "dtype: int64\n"
     ]
    }
   ],
   "source": [
    "# WordNet: Fill missing 'Definition' values with a placeholder\n",
    "df_wordnet['Definition'] = df_wordnet['Definition'].fillna(\"No definition available\")\n",
    "\n",
    "# WordNet: Fill missing 'Word' values with a placeholder\n",
    "df_wordnet['Word'] = df_wordnet['Word'].fillna(\"No word available\")\n",
    "\n",
    "# # Commenting out missing value handling for other datasets\n",
    "# # Neologisms: Fill missing 'Description' values\n",
    "# df_neologisms['Description'] = df_neologisms['Description'].fillna(\"Description not provided\")\n",
    "\n",
    "# # Synonyms: Fill missing 'Exuberant Synonym' values\n",
    "# df_synonyms['Exuberant Synonym'] = df_synonyms['Exuberant Synonym'].fillna(\"No synonym available\")\n",
    "\n",
    "# Verify no missing values remain for WordNet\n",
    "print(\"\\nMissing values after handling:\")\n",
    "print(\"WordNet:\", df_wordnet.isnull().sum())\n",
    "\n",
    "# # Commented out other datasets' missing value checks\n",
    "# print(\"Neologisms:\", df_neologisms.isnull().sum())\n",
    "# print(\"Exuberant Synonyms:\", df_synonyms.isnull().sum())"
   ]
  },
  {
   "cell_type": "code",
   "execution_count": 4,
   "metadata": {},
   "outputs": [
    {
     "name": "stdout",
     "output_type": "stream",
     "text": [
      "\n",
      "Final Inspection:\n",
      "WordNet:\n",
      "<class 'pandas.core.frame.DataFrame'>\n",
      "RangeIndex: 273121 entries, 0 to 273120\n",
      "Data columns (total 4 columns):\n",
      " #   Column          Non-Null Count   Dtype \n",
      "---  ------          --------------   ----- \n",
      " 0   Synset ID       273121 non-null  object\n",
      " 1   Definition      273121 non-null  object\n",
      " 2   Part of Speech  273121 non-null  object\n",
      " 3   Word            273121 non-null  object\n",
      "dtypes: object(4)\n",
      "memory usage: 8.3+ MB\n"
     ]
    }
   ],
   "source": [
    "# Final inspection of WordNet dataset\n",
    "print(\"\\nFinal Inspection:\")\n",
    "print(\"WordNet:\")\n",
    "df_wordnet.info()\n",
    "\n",
    "# Save cleaned WordNet dataset\n",
    "wordnet_cleaned_path = \"/Users/kingcarlos/DIVINE_LUMINARY/UCSD_Course/Capstone_Project/Project_datasets/wordnet_data/cleaned_wordnet_data.csv\"\n",
    "df_wordnet.to_csv(wordnet_cleaned_path, index=False)\n",
    "\n",
    "# # Commenting out saving other datasets\n",
    "# neologisms_cleaned_path = \"/Users/kingcarlos/DIVINE_LUMINARY/UCSD_Course/Capstone_Project/Project_datasets/Neologisms Data/cleaned_neologisms_data.csv\"\n",
    "# synonyms_cleaned_path = \"/Users/kingcarlos/DIVINE_LUMINARY/UCSD_Course/Capstone_Project/Project_datasets/Exuberant Synonyms Data/cleaned_synonyms_data.csv\"\n",
    "\n",
    "# # df_neologisms.to_csv(neologisms_cleaned_path, index=False)\n",
    "# # df_synonyms.to_csv(synonyms_cleaned_path, index=False)\n"
   ]
  },
  {
   "cell_type": "code",
   "execution_count": 6,
   "metadata": {},
   "outputs": [
    {
     "name": "stdout",
     "output_type": "stream",
     "text": [
      "\n",
      "WordNet with Label Encoded 'Part of Speech':\n",
      "  Synset ID Part of Speech  Part of Speech Encoded\n",
      "0      1740           Noun                       2\n",
      "1      1930           Noun                       2\n",
      "2      2137           Noun                       2\n",
      "3      2452           Noun                       2\n",
      "4      2684           Noun                       2\n",
      "\n",
      "Label Encoding Mapping:\n",
      "{'Adjective': 0, 'Adverb': 1, 'Noun': 2, 'Verb': 3}\n",
      "\n",
      "Label encoded dataset saved to: /Users/kingcarlos/DIVINE_LUMINARY/UCSD_Course/Capstone_Project/Project_datasets/wordnet_data/cleaned_wordnet_data_label_encoded.csv\n"
     ]
    }
   ],
   "source": [
    "from sklearn.preprocessing import LabelEncoder\n",
    "\n",
    "# Apply Label Encoding to 'Part of Speech'\n",
    "label_encoder = LabelEncoder()\n",
    "df_wordnet['Part of Speech Encoded'] = label_encoder.fit_transform(df_wordnet['Part of Speech'])\n",
    "\n",
    "# Inspect the result\n",
    "print(\"\\nWordNet with Label Encoded 'Part of Speech':\")\n",
    "print(df_wordnet[['Synset ID', 'Part of Speech', 'Part of Speech Encoded']].head())\n",
    "\n",
    "# Check the mapping of encoded labels\n",
    "label_mapping = dict(zip(label_encoder.classes_, label_encoder.transform(label_encoder.classes_)))\n",
    "print(\"\\nLabel Encoding Mapping:\")\n",
    "print(label_mapping)\n",
    "\n",
    "# Save the labeled dataset\n",
    "label_encoded_path = \"/Users/kingcarlos/DIVINE_LUMINARY/UCSD_Course/Capstone_Project/Project_datasets/wordnet_data/cleaned_wordnet_data_label_encoded.csv\"\n",
    "df_wordnet.to_csv(label_encoded_path, index=False)\n",
    "\n",
    "print(f\"\\nLabel encoded dataset saved to: {label_encoded_path}\")"
   ]
  }
 ],
 "metadata": {
  "kernelspec": {
   "display_name": "Python 3",
   "language": "python",
   "name": "python3"
  },
  "language_info": {
   "codemirror_mode": {
    "name": "ipython",
    "version": 3
   },
   "file_extension": ".py",
   "mimetype": "text/x-python",
   "name": "python",
   "nbconvert_exporter": "python",
   "pygments_lexer": "ipython3",
   "version": "3.12.0"
  }
 },
 "nbformat": 4,
 "nbformat_minor": 2
}
